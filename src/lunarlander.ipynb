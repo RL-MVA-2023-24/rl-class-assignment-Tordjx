{
  "cells": [
    {
      "cell_type": "code",
      "execution_count": 1,
      "metadata": {},
      "outputs": [
        {
          "data": {
            "text/html": [
              "\n",
              "      <iframe id=\"tensorboard-frame-9192b6493878e5fd\" width=\"100%\" height=\"800\" frameborder=\"0\">\n",
              "      </iframe>\n",
              "      <script>\n",
              "        (function() {\n",
              "          const frame = document.getElementById(\"tensorboard-frame-9192b6493878e5fd\");\n",
              "          const url = new URL(\"/\", window.location);\n",
              "          const port = 6008;\n",
              "          if (port) {\n",
              "            url.port = port;\n",
              "          }\n",
              "          frame.src = url;\n",
              "        })();\n",
              "      </script>\n",
              "    "
            ],
            "text/plain": [
              "<IPython.core.display.HTML object>"
            ]
          },
          "metadata": {},
          "output_type": "display_data"
        }
      ],
      "source": [
        "%reload_ext tensorboard \n",
        "%tensorboard --logdir=content/data/tensorboard/"
      ]
    },
    {
      "cell_type": "code",
      "execution_count": 2,
      "metadata": {
        "id": "46MVX4FDjw3_"
      },
      "outputs": [],
      "source": [
        "import jax \n",
        "from jax import numpy as jnp\n",
        "jax.config.update('jax_platform_name', 'cpu')\n",
        "\n",
        "import muax\n",
        "from muax import nn "
      ]
    },
    {
      "cell_type": "code",
      "execution_count": 3,
      "metadata": {
        "id": "EB1-ilu8jw3_"
      },
      "outputs": [],
      "source": [
        "import haiku as hk\n",
        "\n",
        "class Representation(hk.Module):\n",
        "  def __init__(self, embedding_dim, name='representation'):\n",
        "    super().__init__(name=name)\n",
        "\n",
        "    self.repr_func = hk.Sequential([\n",
        "        hk.Linear(embedding_dim), \n",
        "        # jax.nn.elu,\n",
        "    ])\n",
        "\n",
        "  def __call__(self, obs):\n",
        "    s = self.repr_func(obs)\n",
        "    return s \n",
        "\n",
        "\n",
        "class Prediction(hk.Module):\n",
        "  def __init__(self, num_actions, full_support_size, name='prediction'):\n",
        "    super().__init__(name=name)        \n",
        "    \n",
        "    self.v_func = hk.Sequential([\n",
        "        hk.Linear(64), jax.nn.elu,\n",
        "        hk.Linear(64), jax.nn.elu,\n",
        "        hk.Linear(16), jax.nn.elu,\n",
        "        hk.Linear(full_support_size)\n",
        "    ])\n",
        "    self.pi_func = hk.Sequential([\n",
        "        hk.Linear(64), jax.nn.elu,\n",
        "        hk.Linear(64), jax.nn.elu,\n",
        "        hk.Linear(16), jax.nn.elu,\n",
        "        hk.Linear(num_actions)\n",
        "    ])\n",
        "  \n",
        "  def __call__(self, s):\n",
        "    v = self.v_func(s)\n",
        "    logits = self.pi_func(s)\n",
        "    # logits = jax.nn.softmax(logits, axis=-1)\n",
        "    return v, logits\n",
        "\n",
        "\n",
        "class Dynamic(hk.Module):\n",
        "  def __init__(self, embedding_dim, num_actions, full_support_size, name='dynamic'):\n",
        "    super().__init__(name=name)\n",
        "    \n",
        "    self.ns_func = hk.Sequential([\n",
        "        hk.Linear(64), jax.nn.elu,\n",
        "        hk.Linear(64), jax.nn.elu,\n",
        "        hk.Linear(16), jax.nn.elu,\n",
        "        hk.Linear(embedding_dim)\n",
        "    ])\n",
        "    self.r_func = hk.Sequential([\n",
        "        hk.Linear(64), jax.nn.elu,\n",
        "        hk.Linear(64), jax.nn.elu,\n",
        "        hk.Linear(16), jax.nn.elu,\n",
        "        hk.Linear(full_support_size)\n",
        "    ])\n",
        "    self.cat_func = jax.jit(lambda s, a: \n",
        "                            jnp.concatenate([s, jax.nn.one_hot(a, num_actions)],\n",
        "                                            axis=1)\n",
        "                            )\n",
        "  \n",
        "  def __call__(self, s, a):\n",
        "    sa = self.cat_func(s, a)\n",
        "    r = self.r_func(sa)\n",
        "    ns = self.ns_func(sa)\n",
        "    return r, ns\n",
        "\n",
        "\n",
        "def init_representation_func(representation_module, embedding_dim):\n",
        "    def representation_func(obs):\n",
        "      repr_model = representation_module(embedding_dim)\n",
        "      return repr_model(obs)\n",
        "    return representation_func\n",
        "  \n",
        "def init_prediction_func(prediction_module, num_actions, full_support_size):\n",
        "  def prediction_func(s):\n",
        "    pred_model = prediction_module(num_actions, full_support_size)\n",
        "    return pred_model(s)\n",
        "  return prediction_func\n",
        "\n",
        "def init_dynamic_func(dynamic_module, embedding_dim, num_actions, full_support_size):\n",
        "  def dynamic_func(s, a):\n",
        "    dy_model = dynamic_module(embedding_dim, num_actions, full_support_size)\n",
        "    return dy_model(s, a)\n",
        "  return dynamic_func "
      ]
    },
    {
      "cell_type": "code",
      "execution_count": 4,
      "metadata": {},
      "outputs": [],
      "source": [
        "from gymnasium.wrappers import TimeLimit\n",
        "from env_hiv import * \n",
        "class Spec :\n",
        "    def __init__(self):\n",
        "        self.max_episode_steps = 200\n",
        "\n",
        "class HIVWrapped(HIVPatient):\n",
        "    def __init__(self):\n",
        "        super().__init__()\n",
        "        self.spec = Spec()\n",
        "env = TimeLimit(HIVWrapped(),200)"
      ]
    },
    {
      "cell_type": "code",
      "execution_count": 5,
      "metadata": {
        "id": "LI8IMdRNjw4A"
      },
      "outputs": [
        {
          "name": "stdout",
          "output_type": "stream",
          "text": [
            "buffer warm up stage...\n",
            "start training...\n"
          ]
        },
        {
          "name": "stderr",
          "output_type": "stream",
          "text": [
            "/home/tordjx/miniconda3/lib/python3.11/site-packages/gymnasium/core.py:311: UserWarning: \u001b[33mWARN: env.spec to get variables from other wrappers is deprecated and will be removed in v1.0, to get this variable you can do `env.unwrapped.spec` for environment variables or `env.get_wrapper_attr('spec')` that will search the reminding wrappers.\u001b[0m\n",
            "  logger.warn(\n",
            "[TrainMonitor|INFO] ep: 1,\tT: 201,\tG: 3.46e+06,\tavg_r: 1.73e+04,\tavg_G: 3.46e+06,\tt: 200,\tdt: 214.992ms,\tv: 140,\tRn: 6.07e+05,\tloss: 195,\ttraining_step: 50,\ttest_G: 4.27e+06\n",
            "/home/tordjx/miniconda3/lib/python3.11/site-packages/gymnasium/core.py:311: UserWarning: \u001b[33mWARN: env.spec to get variables from other wrappers is deprecated and will be removed in v1.0, to get this variable you can do `env.unwrapped.spec` for environment variables or `env.get_wrapper_attr('spec')` that will search the reminding wrappers.\u001b[0m\n",
            "  logger.warn(\n",
            "[TrainMonitor|INFO] ep: 2,\tT: 402,\tG: 4.22e+06,\tavg_r: 2.11e+04,\tavg_G: 3.84e+06,\tt: 200,\tdt: 19.503ms,\tv: 422,\tRn: 7.49e+05,\tloss: 24.2,\ttraining_step: 100\n",
            "[TrainMonitor|INFO] ep: 3,\tT: 603,\tG: 3.47e+06,\tavg_r: 1.74e+04,\tavg_G: 3.72e+06,\tt: 200,\tdt: 19.538ms,\tv: 422,\tRn: 6.1e+05,\tloss: 1.22,\ttraining_step: 150\n",
            "[TrainMonitor|INFO] ep: 4,\tT: 804,\tG: 3.5e+06,\tavg_r: 1.75e+04,\tavg_G: 3.66e+06,\tt: 200,\tdt: 19.505ms,\tv: 422,\tRn: 6.14e+05,\tloss: 0.136,\ttraining_step: 200\n",
            "[TrainMonitor|INFO] ep: 5,\tT: 1,005,\tG: 3.44e+06,\tavg_r: 1.72e+04,\tavg_G: 3.62e+06,\tt: 200,\tdt: 19.380ms,\tv: 422,\tRn: 6.03e+05,\tloss: 0.14,\ttraining_step: 250\n",
            "[TrainMonitor|INFO] ep: 6,\tT: 1,206,\tG: 3.53e+06,\tavg_r: 1.77e+04,\tavg_G: 3.61e+06,\tt: 200,\tdt: 19.439ms,\tv: 422,\tRn: 6.22e+05,\tloss: 0.126,\ttraining_step: 300\n",
            "[TrainMonitor|INFO] ep: 7,\tT: 1,407,\tG: 3.46e+06,\tavg_r: 1.73e+04,\tavg_G: 3.58e+06,\tt: 200,\tdt: 19.269ms,\tv: 422,\tRn: 6.07e+05,\tloss: 0.122,\ttraining_step: 350\n",
            "[TrainMonitor|INFO] ep: 8,\tT: 1,608,\tG: 3.44e+06,\tavg_r: 1.72e+04,\tavg_G: 3.57e+06,\tt: 200,\tdt: 19.605ms,\tv: 422,\tRn: 6.04e+05,\tloss: 0.123,\ttraining_step: 400\n",
            "[TrainMonitor|INFO] ep: 9,\tT: 1,809,\tG: 3.46e+06,\tavg_r: 1.73e+04,\tavg_G: 3.55e+06,\tt: 200,\tdt: 19.412ms,\tv: 422,\tRn: 6.05e+05,\tloss: 0.121,\ttraining_step: 450\n",
            "[TrainMonitor|INFO] ep: 10,\tT: 2,010,\tG: 3.43e+06,\tavg_r: 1.72e+04,\tavg_G: 3.54e+06,\tt: 200,\tdt: 19.459ms,\tv: 422,\tRn: 6.01e+05,\tloss: 0.119,\ttraining_step: 500\n",
            "[TrainMonitor|INFO] ep: 11,\tT: 2,211,\tG: 3.48e+06,\tavg_r: 1.74e+04,\tavg_G: 3.54e+06,\tt: 200,\tdt: 198.043ms,\tv: 422,\tRn: 6.11e+05,\tloss: 0.116,\ttraining_step: 550,\ttest_G: 3.43e+06\n",
            "[TrainMonitor|INFO] ep: 12,\tT: 2,412,\tG: 3.44e+06,\tavg_r: 1.72e+04,\tavg_G: 3.53e+06,\tt: 200,\tdt: 19.307ms,\tv: 422,\tRn: 6.03e+05,\tloss: 0.215,\ttraining_step: 600\n",
            "[TrainMonitor|INFO] ep: 13,\tT: 2,613,\tG: 3.5e+06,\tavg_r: 1.75e+04,\tavg_G: 3.52e+06,\tt: 200,\tdt: 19.376ms,\tv: 422,\tRn: 6.1e+05,\tloss: 0.117,\ttraining_step: 650\n",
            "[TrainMonitor|INFO] ep: 14,\tT: 2,814,\tG: 3.5e+06,\tavg_r: 1.75e+04,\tavg_G: 3.52e+06,\tt: 200,\tdt: 19.659ms,\tv: 422,\tRn: 6.14e+05,\tloss: 0.112,\ttraining_step: 700\n",
            "[TrainMonitor|INFO] ep: 15,\tT: 3,015,\tG: 3.44e+06,\tavg_r: 1.72e+04,\tavg_G: 3.51e+06,\tt: 200,\tdt: 19.518ms,\tv: 422,\tRn: 6.03e+05,\tloss: 0.115,\ttraining_step: 750\n",
            "[TrainMonitor|INFO] ep: 16,\tT: 3,216,\tG: 3.51e+06,\tavg_r: 1.76e+04,\tavg_G: 3.51e+06,\tt: 200,\tdt: 19.475ms,\tv: 422,\tRn: 6.13e+05,\tloss: 0.115,\ttraining_step: 800\n",
            "[TrainMonitor|INFO] ep: 17,\tT: 3,417,\tG: 3.44e+06,\tavg_r: 1.72e+04,\tavg_G: 3.5e+06,\tt: 200,\tdt: 19.512ms,\tv: 422,\tRn: 6.03e+05,\tloss: 0.109,\ttraining_step: 850\n",
            "[TrainMonitor|INFO] ep: 18,\tT: 3,618,\tG: 3.47e+06,\tavg_r: 1.74e+04,\tavg_G: 3.5e+06,\tt: 200,\tdt: 19.513ms,\tv: 422,\tRn: 6.06e+05,\tloss: 0.108,\ttraining_step: 900\n",
            "[TrainMonitor|INFO] ep: 19,\tT: 3,819,\tG: 3.47e+06,\tavg_r: 1.73e+04,\tavg_G: 3.5e+06,\tt: 200,\tdt: 19.494ms,\tv: 422,\tRn: 6.09e+05,\tloss: 0.115,\ttraining_step: 950\n",
            "[TrainMonitor|INFO] ep: 20,\tT: 4,020,\tG: 3.51e+06,\tavg_r: 1.75e+04,\tavg_G: 3.5e+06,\tt: 200,\tdt: 19.164ms,\tv: 422,\tRn: 6.16e+05,\tloss: 0.11,\ttraining_step: 1e+03\n",
            "[TrainMonitor|INFO] ep: 21,\tT: 4,221,\tG: 3.5e+06,\tavg_r: 1.75e+04,\tavg_G: 3.5e+06,\tt: 200,\tdt: 196.652ms,\tv: 422,\tRn: 6.14e+05,\tloss: 0.119,\ttraining_step: 1.05e+03,\ttest_G: 3.43e+06\n",
            "[TrainMonitor|INFO] ep: 22,\tT: 4,422,\tG: 3.43e+06,\tavg_r: 1.72e+04,\tavg_G: 3.49e+06,\tt: 200,\tdt: 19.179ms,\tv: 422,\tRn: 6.02e+05,\tloss: 0.104,\ttraining_step: 1.1e+03\n",
            "[TrainMonitor|INFO] ep: 23,\tT: 4,623,\tG: 3.47e+06,\tavg_r: 1.74e+04,\tavg_G: 3.49e+06,\tt: 200,\tdt: 19.324ms,\tv: 422,\tRn: 6.1e+05,\tloss: 0.106,\ttraining_step: 1.15e+03\n",
            "[TrainMonitor|INFO] ep: 24,\tT: 4,824,\tG: 3.43e+06,\tavg_r: 1.72e+04,\tavg_G: 3.48e+06,\tt: 200,\tdt: 19.440ms,\tv: 422,\tRn: 6.02e+05,\tloss: 0.111,\ttraining_step: 1.2e+03\n",
            "[TrainMonitor|INFO] ep: 25,\tT: 5,025,\tG: 3.49e+06,\tavg_r: 1.75e+04,\tavg_G: 3.49e+06,\tt: 200,\tdt: 19.295ms,\tv: 422,\tRn: 6.14e+05,\tloss: 0.106,\ttraining_step: 1.25e+03\n",
            "[TrainMonitor|INFO] ep: 26,\tT: 5,226,\tG: 3.5e+06,\tavg_r: 1.75e+04,\tavg_G: 3.49e+06,\tt: 200,\tdt: 19.661ms,\tv: 422,\tRn: 6.13e+05,\tloss: 0.106,\ttraining_step: 1.3e+03\n",
            "[TrainMonitor|INFO] ep: 27,\tT: 5,427,\tG: 3.5e+06,\tavg_r: 1.75e+04,\tavg_G: 3.49e+06,\tt: 200,\tdt: 19.338ms,\tv: 422,\tRn: 6.14e+05,\tloss: 0.109,\ttraining_step: 1.35e+03\n",
            "[TrainMonitor|INFO] ep: 28,\tT: 5,628,\tG: 3.47e+06,\tavg_r: 1.73e+04,\tavg_G: 3.49e+06,\tt: 200,\tdt: 19.622ms,\tv: 422,\tRn: 6.05e+05,\tloss: 0.102,\ttraining_step: 1.4e+03\n",
            "[TrainMonitor|INFO] ep: 29,\tT: 5,829,\tG: 3.47e+06,\tavg_r: 1.73e+04,\tavg_G: 3.48e+06,\tt: 200,\tdt: 19.412ms,\tv: 422,\tRn: 6.08e+05,\tloss: 0.101,\ttraining_step: 1.45e+03\n",
            "[TrainMonitor|INFO] ep: 30,\tT: 6,030,\tG: 3.48e+06,\tavg_r: 1.74e+04,\tavg_G: 3.48e+06,\tt: 200,\tdt: 19.082ms,\tv: 422,\tRn: 6.1e+05,\tloss: 0.104,\ttraining_step: 1.5e+03\n",
            "[TrainMonitor|INFO] ep: 31,\tT: 6,231,\tG: 3.49e+06,\tavg_r: 1.75e+04,\tavg_G: 3.48e+06,\tt: 200,\tdt: 196.155ms,\tv: 422,\tRn: 6.1e+05,\tloss: 0.113,\ttraining_step: 1.55e+03,\ttest_G: 3.43e+06\n",
            "[TrainMonitor|INFO] ep: 32,\tT: 6,432,\tG: 3.57e+06,\tavg_r: 1.79e+04,\tavg_G: 3.49e+06,\tt: 200,\tdt: 19.162ms,\tv: 422,\tRn: 6.29e+05,\tloss: 0.111,\ttraining_step: 1.6e+03\n",
            "[TrainMonitor|INFO] ep: 33,\tT: 6,633,\tG: 3.54e+06,\tavg_r: 1.77e+04,\tavg_G: 3.5e+06,\tt: 200,\tdt: 19.059ms,\tv: 422,\tRn: 6.21e+05,\tloss: 0.104,\ttraining_step: 1.65e+03\n",
            "[TrainMonitor|INFO] ep: 34,\tT: 6,834,\tG: 3.47e+06,\tavg_r: 1.73e+04,\tavg_G: 3.49e+06,\tt: 200,\tdt: 19.198ms,\tv: 422,\tRn: 6.09e+05,\tloss: 0.0984,\ttraining_step: 1.7e+03\n",
            "[TrainMonitor|INFO] ep: 35,\tT: 7,035,\tG: 3.6e+06,\tavg_r: 1.8e+04,\tavg_G: 3.51e+06,\tt: 200,\tdt: 19.258ms,\tv: 422,\tRn: 6.33e+05,\tloss: 0.102,\ttraining_step: 1.75e+03\n",
            "[TrainMonitor|INFO] ep: 36,\tT: 7,236,\tG: 3.44e+06,\tavg_r: 1.72e+04,\tavg_G: 3.5e+06,\tt: 200,\tdt: 19.229ms,\tv: 422,\tRn: 6.03e+05,\tloss: 0.104,\ttraining_step: 1.8e+03\n",
            "[TrainMonitor|INFO] ep: 37,\tT: 7,437,\tG: 3.49e+06,\tavg_r: 1.75e+04,\tavg_G: 3.5e+06,\tt: 200,\tdt: 19.193ms,\tv: 422,\tRn: 6.13e+05,\tloss: 0.101,\ttraining_step: 1.85e+03\n",
            "[TrainMonitor|INFO] ep: 38,\tT: 7,638,\tG: 3.45e+06,\tavg_r: 1.72e+04,\tavg_G: 3.49e+06,\tt: 200,\tdt: 19.606ms,\tv: 422,\tRn: 6.04e+05,\tloss: 0.109,\ttraining_step: 1.9e+03\n",
            "[TrainMonitor|INFO] ep: 39,\tT: 7,839,\tG: 3.43e+06,\tavg_r: 1.72e+04,\tavg_G: 3.49e+06,\tt: 200,\tdt: 19.310ms,\tv: 422,\tRn: 6.02e+05,\tloss: 0.104,\ttraining_step: 1.95e+03\n",
            "[TrainMonitor|INFO] ep: 40,\tT: 8,040,\tG: 3.53e+06,\tavg_r: 1.76e+04,\tavg_G: 3.49e+06,\tt: 200,\tdt: 19.383ms,\tv: 422,\tRn: 6.2e+05,\tloss: 0.101,\ttraining_step: 2e+03\n",
            "[TrainMonitor|INFO] ep: 41,\tT: 8,241,\tG: 3.46e+06,\tavg_r: 1.73e+04,\tavg_G: 3.49e+06,\tt: 200,\tdt: 197.516ms,\tv: 422,\tRn: 6.06e+05,\tloss: 0.0972,\ttraining_step: 2.05e+03,\ttest_G: 3.43e+06\n",
            "[TrainMonitor|INFO] ep: 42,\tT: 8,442,\tG: 3.5e+06,\tavg_r: 1.75e+04,\tavg_G: 3.49e+06,\tt: 200,\tdt: 19.196ms,\tv: 422,\tRn: 6.16e+05,\tloss: 0.179,\ttraining_step: 2.1e+03\n",
            "[TrainMonitor|INFO] ep: 43,\tT: 8,643,\tG: 3.48e+06,\tavg_r: 1.74e+04,\tavg_G: 3.49e+06,\tt: 200,\tdt: 19.173ms,\tv: 422,\tRn: 6.11e+05,\tloss: 0.126,\ttraining_step: 2.15e+03\n",
            "[TrainMonitor|INFO] ep: 44,\tT: 8,844,\tG: 3.48e+06,\tavg_r: 1.74e+04,\tavg_G: 3.49e+06,\tt: 200,\tdt: 19.194ms,\tv: 422,\tRn: 6.11e+05,\tloss: 0.0969,\ttraining_step: 2.2e+03\n",
            "[TrainMonitor|INFO] ep: 45,\tT: 9,045,\tG: 3.44e+06,\tavg_r: 1.72e+04,\tavg_G: 3.48e+06,\tt: 200,\tdt: 19.193ms,\tv: 422,\tRn: 6.03e+05,\tloss: 0.0972,\ttraining_step: 2.25e+03\n",
            "[TrainMonitor|INFO] ep: 46,\tT: 9,246,\tG: 3.47e+06,\tavg_r: 1.74e+04,\tavg_G: 3.48e+06,\tt: 200,\tdt: 19.221ms,\tv: 422,\tRn: 6.09e+05,\tloss: 0.0995,\ttraining_step: 2.3e+03\n",
            "[TrainMonitor|INFO] ep: 47,\tT: 9,447,\tG: 3.53e+06,\tavg_r: 1.77e+04,\tavg_G: 3.49e+06,\tt: 200,\tdt: 19.213ms,\tv: 422,\tRn: 6.17e+05,\tloss: 0.103,\ttraining_step: 2.35e+03\n",
            "[TrainMonitor|INFO] ep: 48,\tT: 9,648,\tG: 3.71e+06,\tavg_r: 1.86e+04,\tavg_G: 3.51e+06,\tt: 200,\tdt: 19.213ms,\tv: 422,\tRn: 6.56e+05,\tloss: 0.103,\ttraining_step: 2.4e+03\n",
            "[TrainMonitor|INFO] ep: 49,\tT: 9,849,\tG: 3.43e+06,\tavg_r: 1.72e+04,\tavg_G: 3.5e+06,\tt: 200,\tdt: 19.616ms,\tv: 422,\tRn: 6.02e+05,\tloss: 0.0962,\ttraining_step: 2.45e+03\n",
            "[TrainMonitor|INFO] ep: 50,\tT: 10,050,\tG: 3.46e+06,\tavg_r: 1.73e+04,\tavg_G: 3.5e+06,\tt: 200,\tdt: 19.146ms,\tv: 422,\tRn: 6.07e+05,\tloss: 0.1,\ttraining_step: 2.5e+03\n",
            "[TrainMonitor|INFO] ep: 51,\tT: 10,251,\tG: 3.47e+06,\tavg_r: 1.73e+04,\tavg_G: 3.49e+06,\tt: 200,\tdt: 197.915ms,\tv: 422,\tRn: 6.09e+05,\tloss: 0.0996,\ttraining_step: 2.55e+03,\ttest_G: 3.43e+06\n",
            "[TrainMonitor|INFO] ep: 52,\tT: 10,452,\tG: 3.56e+06,\tavg_r: 1.78e+04,\tavg_G: 3.5e+06,\tt: 200,\tdt: 19.230ms,\tv: 422,\tRn: 6.28e+05,\tloss: 0.1,\ttraining_step: 2.6e+03\n",
            "[TrainMonitor|INFO] ep: 53,\tT: 10,653,\tG: 3.49e+06,\tavg_r: 1.74e+04,\tavg_G: 3.5e+06,\tt: 200,\tdt: 19.206ms,\tv: 422,\tRn: 6.12e+05,\tloss: 0.0971,\ttraining_step: 2.65e+03\n",
            "[TrainMonitor|INFO] ep: 54,\tT: 10,854,\tG: 3.5e+06,\tavg_r: 1.75e+04,\tavg_G: 3.5e+06,\tt: 200,\tdt: 19.259ms,\tv: 422,\tRn: 6.16e+05,\tloss: 0.0948,\ttraining_step: 2.7e+03\n",
            "[TrainMonitor|INFO] ep: 55,\tT: 11,055,\tG: 3.49e+06,\tavg_r: 1.75e+04,\tavg_G: 3.5e+06,\tt: 200,\tdt: 19.292ms,\tv: 422,\tRn: 6.14e+05,\tloss: 0.0955,\ttraining_step: 2.75e+03\n",
            "[TrainMonitor|INFO] ep: 56,\tT: 11,256,\tG: 3.44e+06,\tavg_r: 1.72e+04,\tavg_G: 3.49e+06,\tt: 200,\tdt: 19.245ms,\tv: 422,\tRn: 6.03e+05,\tloss: 0.0993,\ttraining_step: 2.8e+03\n",
            "[TrainMonitor|INFO] ep: 57,\tT: 11,457,\tG: 3.57e+06,\tavg_r: 1.78e+04,\tavg_G: 3.5e+06,\tt: 200,\tdt: 19.196ms,\tv: 422,\tRn: 6.29e+05,\tloss: 0.0967,\ttraining_step: 2.85e+03\n",
            "[TrainMonitor|INFO] ep: 58,\tT: 11,658,\tG: 3.47e+06,\tavg_r: 1.73e+04,\tavg_G: 3.5e+06,\tt: 200,\tdt: 19.246ms,\tv: 422,\tRn: 6.09e+05,\tloss: 0.094,\ttraining_step: 2.9e+03\n",
            "[TrainMonitor|INFO] ep: 59,\tT: 11,859,\tG: 3.47e+06,\tavg_r: 1.73e+04,\tavg_G: 3.49e+06,\tt: 200,\tdt: 19.224ms,\tv: 422,\tRn: 6.09e+05,\tloss: 0.102,\ttraining_step: 2.95e+03\n",
            "[TrainMonitor|INFO] ep: 60,\tT: 12,060,\tG: 3.5e+06,\tavg_r: 1.75e+04,\tavg_G: 3.5e+06,\tt: 200,\tdt: 19.582ms,\tv: 422,\tRn: 6.15e+05,\tloss: 0.0965,\ttraining_step: 3e+03\n",
            "[TrainMonitor|INFO] ep: 61,\tT: 12,261,\tG: 3.53e+06,\tavg_r: 1.76e+04,\tavg_G: 3.5e+06,\tt: 200,\tdt: 197.645ms,\tv: 422,\tRn: 6.2e+05,\tloss: 0.0985,\ttraining_step: 3.05e+03,\ttest_G: 3.43e+06\n",
            "[TrainMonitor|INFO] ep: 62,\tT: 12,462,\tG: 3.56e+06,\tavg_r: 1.78e+04,\tavg_G: 3.5e+06,\tt: 200,\tdt: 19.223ms,\tv: 422,\tRn: 6.25e+05,\tloss: 0.0943,\ttraining_step: 3.1e+03\n",
            "[TrainMonitor|INFO] ep: 63,\tT: 12,663,\tG: 3.47e+06,\tavg_r: 1.73e+04,\tavg_G: 3.5e+06,\tt: 200,\tdt: 19.241ms,\tv: 422,\tRn: 6.09e+05,\tloss: 0.0966,\ttraining_step: 3.15e+03\n",
            "[TrainMonitor|INFO] ep: 64,\tT: 12,864,\tG: 3.48e+06,\tavg_r: 1.74e+04,\tavg_G: 3.5e+06,\tt: 200,\tdt: 19.255ms,\tv: 422,\tRn: 6.12e+05,\tloss: 0.0975,\ttraining_step: 3.2e+03\n",
            "[TrainMonitor|INFO] ep: 65,\tT: 13,065,\tG: 3.5e+06,\tavg_r: 1.75e+04,\tavg_G: 3.5e+06,\tt: 200,\tdt: 19.267ms,\tv: 422,\tRn: 6.16e+05,\tloss: 0.0958,\ttraining_step: 3.25e+03\n",
            "[TrainMonitor|INFO] ep: 66,\tT: 13,266,\tG: 3.51e+06,\tavg_r: 1.75e+04,\tavg_G: 3.5e+06,\tt: 200,\tdt: 19.226ms,\tv: 422,\tRn: 6.15e+05,\tloss: 0.0948,\ttraining_step: 3.3e+03\n",
            "[TrainMonitor|INFO] ep: 67,\tT: 13,467,\tG: 3.46e+06,\tavg_r: 1.73e+04,\tavg_G: 3.5e+06,\tt: 200,\tdt: 19.246ms,\tv: 422,\tRn: 6.06e+05,\tloss: 0.0942,\ttraining_step: 3.35e+03\n",
            "[TrainMonitor|INFO] ep: 68,\tT: 13,668,\tG: 3.56e+06,\tavg_r: 1.78e+04,\tavg_G: 3.5e+06,\tt: 200,\tdt: 19.183ms,\tv: 422,\tRn: 6.22e+05,\tloss: 0.0961,\ttraining_step: 3.4e+03\n",
            "[TrainMonitor|INFO] ep: 69,\tT: 13,869,\tG: 3.71e+06,\tavg_r: 1.85e+04,\tavg_G: 3.52e+06,\tt: 200,\tdt: 19.122ms,\tv: 422,\tRn: 6.56e+05,\tloss: 0.0958,\ttraining_step: 3.45e+03\n",
            "[TrainMonitor|INFO] ep: 70,\tT: 14,070,\tG: 3.59e+06,\tavg_r: 1.8e+04,\tavg_G: 3.53e+06,\tt: 200,\tdt: 18.918ms,\tv: 422,\tRn: 6.31e+05,\tloss: 0.0987,\ttraining_step: 3.5e+03\n",
            "[TrainMonitor|INFO] ep: 71,\tT: 14,271,\tG: 3.51e+06,\tavg_r: 1.75e+04,\tavg_G: 3.53e+06,\tt: 200,\tdt: 194.175ms,\tv: 422,\tRn: 6.16e+05,\tloss: 0.0997,\ttraining_step: 3.55e+03,\ttest_G: 3.43e+06\n",
            "[TrainMonitor|INFO] ep: 72,\tT: 14,472,\tG: 3.47e+06,\tavg_r: 1.73e+04,\tavg_G: 3.52e+06,\tt: 200,\tdt: 18.765ms,\tv: 422,\tRn: 6.09e+05,\tloss: 0.094,\ttraining_step: 3.6e+03\n",
            "[TrainMonitor|INFO] ep: 73,\tT: 14,673,\tG: 3.46e+06,\tavg_r: 1.73e+04,\tavg_G: 3.52e+06,\tt: 200,\tdt: 18.902ms,\tv: 422,\tRn: 6.07e+05,\tloss: 0.0932,\ttraining_step: 3.65e+03\n",
            "[TrainMonitor|INFO] ep: 74,\tT: 14,874,\tG: 3.44e+06,\tavg_r: 1.72e+04,\tavg_G: 3.51e+06,\tt: 200,\tdt: 18.904ms,\tv: 422,\tRn: 6.03e+05,\tloss: 0.0882,\ttraining_step: 3.7e+03\n",
            "[TrainMonitor|INFO] ep: 75,\tT: 15,075,\tG: 3.47e+06,\tavg_r: 1.73e+04,\tavg_G: 3.5e+06,\tt: 200,\tdt: 18.667ms,\tv: 422,\tRn: 6.09e+05,\tloss: 0.0911,\ttraining_step: 3.75e+03\n",
            "[TrainMonitor|INFO] ep: 76,\tT: 15,276,\tG: 3.5e+06,\tavg_r: 1.75e+04,\tavg_G: 3.5e+06,\tt: 200,\tdt: 18.625ms,\tv: 422,\tRn: 6.12e+05,\tloss: 0.0944,\ttraining_step: 3.8e+03\n",
            "[TrainMonitor|INFO] ep: 77,\tT: 15,477,\tG: 3.43e+06,\tavg_r: 1.72e+04,\tavg_G: 3.5e+06,\tt: 200,\tdt: 18.595ms,\tv: 422,\tRn: 6.02e+05,\tloss: 0.0936,\ttraining_step: 3.85e+03\n",
            "[TrainMonitor|INFO] ep: 78,\tT: 15,678,\tG: 3.46e+06,\tavg_r: 1.73e+04,\tavg_G: 3.49e+06,\tt: 200,\tdt: 18.592ms,\tv: 422,\tRn: 6.07e+05,\tloss: 0.0961,\ttraining_step: 3.9e+03\n",
            "[TrainMonitor|INFO] ep: 79,\tT: 15,879,\tG: 3.49e+06,\tavg_r: 1.75e+04,\tavg_G: 3.49e+06,\tt: 200,\tdt: 18.617ms,\tv: 422,\tRn: 6.13e+05,\tloss: 0.0976,\ttraining_step: 3.95e+03\n",
            "[TrainMonitor|INFO] ep: 80,\tT: 16,080,\tG: 3.48e+06,\tavg_r: 1.74e+04,\tavg_G: 3.49e+06,\tt: 200,\tdt: 18.710ms,\tv: 422,\tRn: 6.1e+05,\tloss: 0.0948,\ttraining_step: 4e+03\n",
            "[TrainMonitor|INFO] ep: 81,\tT: 16,281,\tG: 3.6e+06,\tavg_r: 1.8e+04,\tavg_G: 3.5e+06,\tt: 200,\tdt: 191.594ms,\tv: 422,\tRn: 6.32e+05,\tloss: 0.0919,\ttraining_step: 4.05e+03,\ttest_G: 3.43e+06\n",
            "[TrainMonitor|INFO] ep: 82,\tT: 16,482,\tG: 3.46e+06,\tavg_r: 1.73e+04,\tavg_G: 3.5e+06,\tt: 200,\tdt: 18.942ms,\tv: 422,\tRn: 6.07e+05,\tloss: 0.0947,\ttraining_step: 4.1e+03\n",
            "[TrainMonitor|INFO] ep: 83,\tT: 16,683,\tG: 3.47e+06,\tavg_r: 1.73e+04,\tavg_G: 3.49e+06,\tt: 200,\tdt: 18.832ms,\tv: 422,\tRn: 6.09e+05,\tloss: 0.0954,\ttraining_step: 4.15e+03\n",
            "[TrainMonitor|INFO] ep: 84,\tT: 16,884,\tG: 3.51e+06,\tavg_r: 1.76e+04,\tavg_G: 3.5e+06,\tt: 200,\tdt: 18.651ms,\tv: 422,\tRn: 6.18e+05,\tloss: 0.0905,\ttraining_step: 4.2e+03\n",
            "[TrainMonitor|INFO] ep: 85,\tT: 17,085,\tG: 3.47e+06,\tavg_r: 1.74e+04,\tavg_G: 3.49e+06,\tt: 200,\tdt: 18.541ms,\tv: 422,\tRn: 6.1e+05,\tloss: 0.0917,\ttraining_step: 4.25e+03\n",
            "[TrainMonitor|INFO] ep: 86,\tT: 17,286,\tG: 3.69e+06,\tavg_r: 1.84e+04,\tavg_G: 3.51e+06,\tt: 200,\tdt: 18.498ms,\tv: 422,\tRn: 6.4e+05,\tloss: 0.0903,\ttraining_step: 4.3e+03\n",
            "[TrainMonitor|INFO] ep: 87,\tT: 17,487,\tG: 3.47e+06,\tavg_r: 1.73e+04,\tavg_G: 3.51e+06,\tt: 200,\tdt: 18.521ms,\tv: 422,\tRn: 6.09e+05,\tloss: 0.0904,\ttraining_step: 4.35e+03\n",
            "[TrainMonitor|INFO] ep: 88,\tT: 17,688,\tG: 3.5e+06,\tavg_r: 1.75e+04,\tavg_G: 3.51e+06,\tt: 200,\tdt: 18.503ms,\tv: 422,\tRn: 6.14e+05,\tloss: 0.0971,\ttraining_step: 4.4e+03\n",
            "[TrainMonitor|INFO] ep: 89,\tT: 17,889,\tG: 3.47e+06,\tavg_r: 1.74e+04,\tavg_G: 3.5e+06,\tt: 200,\tdt: 18.509ms,\tv: 422,\tRn: 6.1e+05,\tloss: 0.093,\ttraining_step: 4.45e+03\n",
            "[TrainMonitor|INFO] ep: 90,\tT: 18,090,\tG: 3.52e+06,\tavg_r: 1.76e+04,\tavg_G: 3.51e+06,\tt: 200,\tdt: 18.484ms,\tv: 422,\tRn: 6.19e+05,\tloss: 0.0958,\ttraining_step: 4.5e+03\n",
            "[TrainMonitor|INFO] ep: 91,\tT: 18,291,\tG: 3.46e+06,\tavg_r: 1.73e+04,\tavg_G: 3.5e+06,\tt: 200,\tdt: 189.649ms,\tv: 422,\tRn: 6.07e+05,\tloss: 0.0933,\ttraining_step: 4.55e+03,\ttest_G: 3.43e+06\n",
            "[TrainMonitor|INFO] ep: 92,\tT: 18,492,\tG: 3.48e+06,\tavg_r: 1.74e+04,\tavg_G: 3.5e+06,\tt: 200,\tdt: 18.466ms,\tv: 422,\tRn: 6.05e+05,\tloss: 0.0913,\ttraining_step: 4.6e+03\n",
            "[TrainMonitor|INFO] ep: 93,\tT: 18,693,\tG: 3.47e+06,\tavg_r: 1.73e+04,\tavg_G: 3.5e+06,\tt: 200,\tdt: 18.883ms,\tv: 422,\tRn: 6.09e+05,\tloss: 0.0914,\ttraining_step: 4.65e+03\n",
            "[TrainMonitor|INFO] ep: 94,\tT: 18,894,\tG: 3.47e+06,\tavg_r: 1.73e+04,\tavg_G: 3.49e+06,\tt: 200,\tdt: 18.563ms,\tv: 422,\tRn: 6.09e+05,\tloss: 0.0894,\ttraining_step: 4.7e+03\n",
            "[TrainMonitor|INFO] ep: 95,\tT: 19,095,\tG: 3.51e+06,\tavg_r: 1.75e+04,\tavg_G: 3.49e+06,\tt: 200,\tdt: 18.490ms,\tv: 422,\tRn: 6.16e+05,\tloss: 0.09,\ttraining_step: 4.75e+03\n",
            "[TrainMonitor|INFO] ep: 96,\tT: 19,296,\tG: 3.48e+06,\tavg_r: 1.74e+04,\tavg_G: 3.49e+06,\tt: 200,\tdt: 18.518ms,\tv: 422,\tRn: 6.11e+05,\tloss: 0.0901,\ttraining_step: 4.8e+03\n",
            "[TrainMonitor|INFO] ep: 97,\tT: 19,497,\tG: 3.44e+06,\tavg_r: 1.72e+04,\tavg_G: 3.49e+06,\tt: 200,\tdt: 18.465ms,\tv: 422,\tRn: 6.03e+05,\tloss: 0.0907,\ttraining_step: 4.85e+03\n",
            "[TrainMonitor|INFO] ep: 98,\tT: 19,698,\tG: 3.49e+06,\tavg_r: 1.74e+04,\tavg_G: 3.49e+06,\tt: 200,\tdt: 18.522ms,\tv: 422,\tRn: 6.12e+05,\tloss: 0.0939,\ttraining_step: 4.9e+03\n",
            "[TrainMonitor|INFO] ep: 99,\tT: 19,899,\tG: 3.43e+06,\tavg_r: 1.72e+04,\tavg_G: 3.48e+06,\tt: 200,\tdt: 18.207ms,\tv: 422,\tRn: 6.02e+05,\tloss: 0.0949,\ttraining_step: 4.95e+03\n",
            "[TrainMonitor|INFO] ep: 100,\tT: 20,100,\tG: 3.49e+06,\tavg_r: 1.75e+04,\tavg_G: 3.48e+06,\tt: 200,\tdt: 18.531ms,\tv: 422,\tRn: 6.14e+05,\tloss: 0.0914,\ttraining_step: 5e+03\n",
            "[TrainMonitor|INFO] ep: 101,\tT: 20,301,\tG: 3.52e+06,\tavg_r: 1.76e+04,\tavg_G: 3.49e+06,\tt: 200,\tdt: 189.023ms,\tv: 422,\tRn: 6.12e+05,\tloss: 0.0911,\ttraining_step: 5.05e+03,\ttest_G: 3.43e+06\n",
            "[TrainMonitor|INFO] ep: 102,\tT: 20,502,\tG: 3.47e+06,\tavg_r: 1.73e+04,\tavg_G: 3.48e+06,\tt: 200,\tdt: 18.436ms,\tv: 422,\tRn: 6.08e+05,\tloss: 0.0884,\ttraining_step: 5.1e+03\n",
            "[TrainMonitor|INFO] ep: 103,\tT: 20,703,\tG: 3.5e+06,\tavg_r: 1.75e+04,\tavg_G: 3.49e+06,\tt: 200,\tdt: 18.428ms,\tv: 422,\tRn: 6.13e+05,\tloss: 0.091,\ttraining_step: 5.15e+03\n",
            "[TrainMonitor|INFO] ep: 104,\tT: 20,904,\tG: 3.48e+06,\tavg_r: 1.74e+04,\tavg_G: 3.49e+06,\tt: 200,\tdt: 18.880ms,\tv: 422,\tRn: 6.1e+05,\tloss: 0.0933,\ttraining_step: 5.2e+03\n",
            "[TrainMonitor|INFO] ep: 105,\tT: 21,105,\tG: 3.5e+06,\tavg_r: 1.75e+04,\tavg_G: 3.49e+06,\tt: 200,\tdt: 18.604ms,\tv: 422,\tRn: 6.13e+05,\tloss: 0.0901,\ttraining_step: 5.25e+03\n",
            "[TrainMonitor|INFO] ep: 106,\tT: 21,306,\tG: 3.44e+06,\tavg_r: 1.72e+04,\tavg_G: 3.48e+06,\tt: 200,\tdt: 18.418ms,\tv: 422,\tRn: 6.03e+05,\tloss: 0.0914,\ttraining_step: 5.3e+03\n",
            "[TrainMonitor|INFO] ep: 107,\tT: 21,507,\tG: 3.49e+06,\tavg_r: 1.74e+04,\tavg_G: 3.48e+06,\tt: 200,\tdt: 18.493ms,\tv: 422,\tRn: 6.12e+05,\tloss: 0.0908,\ttraining_step: 5.35e+03\n",
            "[TrainMonitor|INFO] ep: 108,\tT: 21,708,\tG: 3.48e+06,\tavg_r: 1.74e+04,\tavg_G: 3.48e+06,\tt: 200,\tdt: 18.505ms,\tv: 422,\tRn: 6.1e+05,\tloss: 0.0936,\ttraining_step: 5.4e+03\n",
            "[TrainMonitor|INFO] ep: 109,\tT: 21,909,\tG: 3.53e+06,\tavg_r: 1.76e+04,\tavg_G: 3.49e+06,\tt: 200,\tdt: 18.465ms,\tv: 422,\tRn: 6.19e+05,\tloss: 0.0936,\ttraining_step: 5.45e+03\n",
            "[TrainMonitor|INFO] ep: 110,\tT: 22,110,\tG: 3.52e+06,\tavg_r: 1.76e+04,\tavg_G: 3.49e+06,\tt: 200,\tdt: 18.513ms,\tv: 422,\tRn: 6.19e+05,\tloss: 0.0992,\ttraining_step: 5.5e+03\n"
          ]
        },
        {
          "ename": "KeyboardInterrupt",
          "evalue": "",
          "output_type": "error",
          "traceback": [
            "\u001b[0;31m---------------------------------------------------------------------------\u001b[0m",
            "\u001b[0;31mKeyboardInterrupt\u001b[0m                         Traceback (most recent call last)",
            "Cell \u001b[0;32mIn[5], line 21\u001b[0m\n\u001b[1;32m     18\u001b[0m model \u001b[38;5;241m=\u001b[39m muax\u001b[38;5;241m.\u001b[39mMuZero(repr_fn, pred_fn, dy_fn, policy\u001b[38;5;241m=\u001b[39m\u001b[38;5;124m'\u001b[39m\u001b[38;5;124mmuzero\u001b[39m\u001b[38;5;124m'\u001b[39m, discount\u001b[38;5;241m=\u001b[39mdiscount,\n\u001b[1;32m     19\u001b[0m                     optimizer\u001b[38;5;241m=\u001b[39mgradient_transform, support_size\u001b[38;5;241m=\u001b[39msupport_size)\n\u001b[1;32m     20\u001b[0m \u001b[38;5;28;01mfrom\u001b[39;00m \u001b[38;5;21;01menv_hiv\u001b[39;00m \u001b[38;5;28;01mimport\u001b[39;00m \u001b[38;5;241m*\u001b[39m \n\u001b[0;32m---> 21\u001b[0m model_path \u001b[38;5;241m=\u001b[39m \u001b[43mmuax\u001b[49m\u001b[38;5;241;43m.\u001b[39;49m\u001b[43mfit\u001b[49m\u001b[43m(\u001b[49m\u001b[43mmodel\u001b[49m\u001b[43m,\u001b[49m\u001b[43m \u001b[49m\u001b[38;5;28;43;01mNone\u001b[39;49;00m\u001b[43m,\u001b[49m\u001b[43m \u001b[49m\n\u001b[1;32m     22\u001b[0m \u001b[43m                \u001b[49m\u001b[43menv\u001b[49m\u001b[43m \u001b[49m\u001b[38;5;241;43m=\u001b[39;49m\u001b[43m \u001b[49m\u001b[43menv\u001b[49m\u001b[43m,\u001b[49m\n\u001b[1;32m     23\u001b[0m \u001b[43m                \u001b[49m\u001b[43mtest_env\u001b[49m\u001b[43m \u001b[49m\u001b[38;5;241;43m=\u001b[39;49m\u001b[43m \u001b[49m\u001b[43menv\u001b[49m\u001b[43m,\u001b[49m\n\u001b[1;32m     24\u001b[0m \u001b[43m                \u001b[49m\u001b[43mmax_episodes\u001b[49m\u001b[38;5;241;43m=\u001b[39;49m\u001b[38;5;241;43m200\u001b[39;49m\u001b[43m,\u001b[49m\n\u001b[1;32m     25\u001b[0m \u001b[43m                \u001b[49m\u001b[43mmax_training_steps\u001b[49m\u001b[38;5;241;43m=\u001b[39;49m\u001b[38;5;241;43m60000\u001b[39;49m\u001b[43m,\u001b[49m\n\u001b[1;32m     26\u001b[0m \u001b[43m                \u001b[49m\u001b[43mtracer\u001b[49m\u001b[38;5;241;43m=\u001b[39;49m\u001b[43mtracer\u001b[49m\u001b[43m,\u001b[49m\n\u001b[1;32m     27\u001b[0m \u001b[43m                \u001b[49m\u001b[43mbuffer\u001b[49m\u001b[38;5;241;43m=\u001b[39;49m\u001b[43mbuffer\u001b[49m\u001b[43m,\u001b[49m\n\u001b[1;32m     28\u001b[0m \u001b[43m                \u001b[49m\u001b[43mk_steps\u001b[49m\u001b[38;5;241;43m=\u001b[39;49m\u001b[38;5;241;43m10\u001b[39;49m\u001b[43m,\u001b[49m\n\u001b[1;32m     29\u001b[0m \u001b[43m                \u001b[49m\u001b[43msample_per_trajectory\u001b[49m\u001b[38;5;241;43m=\u001b[39;49m\u001b[38;5;241;43m1\u001b[39;49m\u001b[43m,\u001b[49m\n\u001b[1;32m     30\u001b[0m \u001b[43m                \u001b[49m\u001b[43mbuffer_warm_up\u001b[49m\u001b[38;5;241;43m=\u001b[39;49m\u001b[38;5;241;43m32\u001b[39;49m\u001b[43m,\u001b[49m\n\u001b[1;32m     31\u001b[0m \u001b[43m                \u001b[49m\u001b[43mnum_trajectory\u001b[49m\u001b[38;5;241;43m=\u001b[39;49m\u001b[38;5;241;43m32\u001b[39;49m\u001b[43m,\u001b[49m\n\u001b[1;32m     32\u001b[0m \u001b[43m                \u001b[49m\u001b[43mtensorboard_dir\u001b[49m\u001b[38;5;241;43m=\u001b[39;49m\u001b[38;5;124;43m'\u001b[39;49m\u001b[38;5;124;43mcontent/data/tensorboard/\u001b[39;49m\u001b[38;5;124;43m'\u001b[39;49m\u001b[43m,\u001b[49m\n\u001b[1;32m     33\u001b[0m \u001b[43m                \u001b[49m\u001b[43msave_name\u001b[49m\u001b[38;5;241;43m=\u001b[39;49m\u001b[38;5;124;43m'\u001b[39;49m\u001b[38;5;124;43mmodel_params\u001b[39;49m\u001b[38;5;124;43m'\u001b[39;49m\u001b[43m,\u001b[49m\n\u001b[1;32m     34\u001b[0m \u001b[43m                \u001b[49m\u001b[43mrandom_seed\u001b[49m\u001b[38;5;241;43m=\u001b[39;49m\u001b[43mi\u001b[49m\u001b[43m,\u001b[49m\n\u001b[1;32m     35\u001b[0m \u001b[43m                \u001b[49m\u001b[43mlog_all_metrics\u001b[49m\u001b[38;5;241;43m=\u001b[39;49m\u001b[38;5;28;43;01mTrue\u001b[39;49;00m\u001b[43m)\u001b[49m\n",
            "File \u001b[0;32m~/miniconda3/lib/python3.11/site-packages/muax/train.py:231\u001b[0m, in \u001b[0;36mfit\u001b[0;34m(model, env_id, env, test_env, tracer, buffer, max_episodes, test_interval, num_test_episodes, max_training_steps, save_every_n_epochs, num_simulations, k_steps, buffer_warm_up, num_trajectory, sample_per_trajectory, name, tensorboard_dir, model_save_path, save_name, random_seed, temperature_fn, log_all_metrics, num_update_per_episode)\u001b[0m\n\u001b[1;32m    229\u001b[0m \u001b[38;5;66;03m# Periodically test the model\u001b[39;00m\n\u001b[1;32m    230\u001b[0m \u001b[38;5;28;01mif\u001b[39;00m ep \u001b[38;5;241m%\u001b[39m test_interval \u001b[38;5;241m==\u001b[39m \u001b[38;5;241m0\u001b[39m:\n\u001b[0;32m--> 231\u001b[0m   test_G \u001b[38;5;241m=\u001b[39m \u001b[43mtest\u001b[49m\u001b[43m(\u001b[49m\u001b[43mmodel\u001b[49m\u001b[43m,\u001b[49m\u001b[43m \u001b[49m\u001b[43mtest_env\u001b[49m\u001b[43m,\u001b[49m\u001b[43m \u001b[49m\u001b[43mtest_key\u001b[49m\u001b[43m,\u001b[49m\u001b[43m \u001b[49m\u001b[43mnum_simulations\u001b[49m\u001b[38;5;241;43m=\u001b[39;49m\u001b[43mnum_simulations\u001b[49m\u001b[43m,\u001b[49m\u001b[43m \u001b[49m\u001b[43mnum_test_episodes\u001b[49m\u001b[38;5;241;43m=\u001b[39;49m\u001b[43mnum_test_episodes\u001b[49m\u001b[43m)\u001b[49m\n\u001b[1;32m    232\u001b[0m   \u001b[38;5;66;03m# test_env.record_metrics({'test_G': test_G})\u001b[39;00m\n\u001b[1;32m    233\u001b[0m   env\u001b[38;5;241m.\u001b[39mrecord_metrics({\u001b[38;5;124m'\u001b[39m\u001b[38;5;124mtest_G\u001b[39m\u001b[38;5;124m'\u001b[39m: test_G})\n",
            "File \u001b[0;32m~/miniconda3/lib/python3.11/site-packages/muax/test.py:39\u001b[0m, in \u001b[0;36mtest\u001b[0;34m(model, env, key, num_simulations, num_test_episodes, random_seed)\u001b[0m\n\u001b[1;32m     32\u001b[0m key, subkey \u001b[38;5;241m=\u001b[39m jax\u001b[38;5;241m.\u001b[39mrandom\u001b[38;5;241m.\u001b[39msplit(key)\n\u001b[1;32m     33\u001b[0m a \u001b[38;5;241m=\u001b[39m model\u001b[38;5;241m.\u001b[39mact(subkey, obs, \n\u001b[1;32m     34\u001b[0m               with_pi\u001b[38;5;241m=\u001b[39m\u001b[38;5;28;01mFalse\u001b[39;00m, \n\u001b[1;32m     35\u001b[0m               with_value\u001b[38;5;241m=\u001b[39m\u001b[38;5;28;01mFalse\u001b[39;00m, \n\u001b[1;32m     36\u001b[0m               obs_from_batch\u001b[38;5;241m=\u001b[39m\u001b[38;5;28;01mFalse\u001b[39;00m,\n\u001b[1;32m     37\u001b[0m               num_simulations\u001b[38;5;241m=\u001b[39mnum_simulations,\n\u001b[1;32m     38\u001b[0m               temperature\u001b[38;5;241m=\u001b[39m\u001b[38;5;241m0.\u001b[39m) \u001b[38;5;66;03m# Use deterministic actions during testing\u001b[39;00m\n\u001b[0;32m---> 39\u001b[0m obs_next, r, done, truncated, info \u001b[38;5;241m=\u001b[39m \u001b[43menv\u001b[49m\u001b[38;5;241;43m.\u001b[39;49m\u001b[43mstep\u001b[49m\u001b[43m(\u001b[49m\u001b[43ma\u001b[49m\u001b[43m)\u001b[49m\n\u001b[1;32m     40\u001b[0m episode_reward \u001b[38;5;241m+\u001b[39m\u001b[38;5;241m=\u001b[39m r\n\u001b[1;32m     41\u001b[0m \u001b[38;5;28;01mif\u001b[39;00m done \u001b[38;5;129;01mor\u001b[39;00m truncated:\n",
            "File \u001b[0;32m~/miniconda3/lib/python3.11/site-packages/gymnasium/wrappers/time_limit.py:57\u001b[0m, in \u001b[0;36mTimeLimit.step\u001b[0;34m(self, action)\u001b[0m\n\u001b[1;32m     46\u001b[0m \u001b[38;5;28;01mdef\u001b[39;00m \u001b[38;5;21mstep\u001b[39m(\u001b[38;5;28mself\u001b[39m, action):\n\u001b[1;32m     47\u001b[0m \u001b[38;5;250m    \u001b[39m\u001b[38;5;124;03m\"\"\"Steps through the environment and if the number of steps elapsed exceeds ``max_episode_steps`` then truncate.\u001b[39;00m\n\u001b[1;32m     48\u001b[0m \n\u001b[1;32m     49\u001b[0m \u001b[38;5;124;03m    Args:\u001b[39;00m\n\u001b[0;32m   (...)\u001b[0m\n\u001b[1;32m     55\u001b[0m \n\u001b[1;32m     56\u001b[0m \u001b[38;5;124;03m    \"\"\"\u001b[39;00m\n\u001b[0;32m---> 57\u001b[0m     observation, reward, terminated, truncated, info \u001b[38;5;241m=\u001b[39m \u001b[38;5;28;43mself\u001b[39;49m\u001b[38;5;241;43m.\u001b[39;49m\u001b[43menv\u001b[49m\u001b[38;5;241;43m.\u001b[39;49m\u001b[43mstep\u001b[49m\u001b[43m(\u001b[49m\u001b[43maction\u001b[49m\u001b[43m)\u001b[49m\n\u001b[1;32m     58\u001b[0m     \u001b[38;5;28mself\u001b[39m\u001b[38;5;241m.\u001b[39m_elapsed_steps \u001b[38;5;241m+\u001b[39m\u001b[38;5;241m=\u001b[39m \u001b[38;5;241m1\u001b[39m\n\u001b[1;32m     60\u001b[0m     \u001b[38;5;28;01mif\u001b[39;00m \u001b[38;5;28mself\u001b[39m\u001b[38;5;241m.\u001b[39m_elapsed_steps \u001b[38;5;241m>\u001b[39m\u001b[38;5;241m=\u001b[39m \u001b[38;5;28mself\u001b[39m\u001b[38;5;241m.\u001b[39m_max_episode_steps:\n",
            "File \u001b[0;32m~/rl-class-assignment-Tordjx/src/env_hiv.py:232\u001b[0m, in \u001b[0;36mHIVPatient.step\u001b[0;34m(self, a_index)\u001b[0m\n\u001b[1;32m    230\u001b[0m state \u001b[38;5;241m=\u001b[39m \u001b[38;5;28mself\u001b[39m\u001b[38;5;241m.\u001b[39mstate()\n\u001b[1;32m    231\u001b[0m action \u001b[38;5;241m=\u001b[39m \u001b[38;5;28mself\u001b[39m\u001b[38;5;241m.\u001b[39maction_set[a_index]\n\u001b[0;32m--> 232\u001b[0m state2 \u001b[38;5;241m=\u001b[39m \u001b[38;5;28;43mself\u001b[39;49m\u001b[38;5;241;43m.\u001b[39;49m\u001b[43mtransition\u001b[49m\u001b[43m(\u001b[49m\u001b[43mstate\u001b[49m\u001b[43m,\u001b[49m\u001b[43m \u001b[49m\u001b[43maction\u001b[49m\u001b[43m,\u001b[49m\u001b[43m \u001b[49m\u001b[38;5;241;43m5\u001b[39;49m\u001b[43m)\u001b[49m\n\u001b[1;32m    233\u001b[0m rew \u001b[38;5;241m=\u001b[39m \u001b[38;5;28mself\u001b[39m\u001b[38;5;241m.\u001b[39mreward(state, action, state2)\n\u001b[1;32m    234\u001b[0m \u001b[38;5;28;01mif\u001b[39;00m \u001b[38;5;28mself\u001b[39m\u001b[38;5;241m.\u001b[39mclipping:\n",
            "File \u001b[0;32m~/rl-class-assignment-Tordjx/src/env_hiv.py:213\u001b[0m, in \u001b[0;36mHIVPatient.transition\u001b[0;34m(self, state, action, duration)\u001b[0m\n\u001b[1;32m    211\u001b[0m nb_steps \u001b[38;5;241m=\u001b[39m \u001b[38;5;28mint\u001b[39m(duration \u001b[38;5;241m/\u001b[39m\u001b[38;5;241m/\u001b[39m \u001b[38;5;241m1e-3\u001b[39m)\n\u001b[1;32m    212\u001b[0m \u001b[38;5;28;01mfor\u001b[39;00m i \u001b[38;5;129;01min\u001b[39;00m \u001b[38;5;28mrange\u001b[39m(nb_steps):\n\u001b[0;32m--> 213\u001b[0m     der \u001b[38;5;241m=\u001b[39m \u001b[38;5;28;43mself\u001b[39;49m\u001b[38;5;241;43m.\u001b[39;49m\u001b[43mder\u001b[49m\u001b[43m(\u001b[49m\u001b[43mstate0\u001b[49m\u001b[43m,\u001b[49m\u001b[43m \u001b[49m\u001b[43maction\u001b[49m\u001b[43m)\u001b[49m\n\u001b[1;32m    214\u001b[0m     state1 \u001b[38;5;241m=\u001b[39m state0 \u001b[38;5;241m+\u001b[39m der \u001b[38;5;241m*\u001b[39m \u001b[38;5;241m1e-3\u001b[39m\n\u001b[1;32m    216\u001b[0m     \u001b[38;5;66;03m# np.clip(state1, self.lower, self.upper, out=state1)\u001b[39;00m\n",
            "File \u001b[0;32m~/rl-class-assignment-Tordjx/src/env_hiv.py:205\u001b[0m, in \u001b[0;36mHIVPatient.der\u001b[0;34m(self, state, action)\u001b[0m\n\u001b[1;32m    190\u001b[0m Vdot \u001b[38;5;241m=\u001b[39m (\n\u001b[1;32m    191\u001b[0m     \u001b[38;5;28mself\u001b[39m\u001b[38;5;241m.\u001b[39mNT \u001b[38;5;241m*\u001b[39m \u001b[38;5;28mself\u001b[39m\u001b[38;5;241m.\u001b[39mdelta \u001b[38;5;241m*\u001b[39m (\u001b[38;5;241m1\u001b[39m \u001b[38;5;241m-\u001b[39m eps2) \u001b[38;5;241m*\u001b[39m (T1star \u001b[38;5;241m+\u001b[39m T2star)\n\u001b[1;32m    192\u001b[0m     \u001b[38;5;241m-\u001b[39m \u001b[38;5;28mself\u001b[39m\u001b[38;5;241m.\u001b[39mc \u001b[38;5;241m*\u001b[39m V\n\u001b[0;32m   (...)\u001b[0m\n\u001b[1;32m    197\u001b[0m     \u001b[38;5;241m*\u001b[39m V\n\u001b[1;32m    198\u001b[0m )\n\u001b[1;32m    199\u001b[0m Edot \u001b[38;5;241m=\u001b[39m (\n\u001b[1;32m    200\u001b[0m     \u001b[38;5;28mself\u001b[39m\u001b[38;5;241m.\u001b[39mlambdaE\n\u001b[1;32m    201\u001b[0m     \u001b[38;5;241m+\u001b[39m \u001b[38;5;28mself\u001b[39m\u001b[38;5;241m.\u001b[39mbE \u001b[38;5;241m*\u001b[39m (T1star \u001b[38;5;241m+\u001b[39m T2star) \u001b[38;5;241m*\u001b[39m E \u001b[38;5;241m/\u001b[39m (T1star \u001b[38;5;241m+\u001b[39m T2star \u001b[38;5;241m+\u001b[39m \u001b[38;5;28mself\u001b[39m\u001b[38;5;241m.\u001b[39mKb)\n\u001b[1;32m    202\u001b[0m     \u001b[38;5;241m-\u001b[39m \u001b[38;5;28mself\u001b[39m\u001b[38;5;241m.\u001b[39mdE \u001b[38;5;241m*\u001b[39m (T1star \u001b[38;5;241m+\u001b[39m T2star) \u001b[38;5;241m*\u001b[39m E \u001b[38;5;241m/\u001b[39m (T1star \u001b[38;5;241m+\u001b[39m T2star \u001b[38;5;241m+\u001b[39m \u001b[38;5;28mself\u001b[39m\u001b[38;5;241m.\u001b[39mKd)\n\u001b[1;32m    203\u001b[0m     \u001b[38;5;241m-\u001b[39m \u001b[38;5;28mself\u001b[39m\u001b[38;5;241m.\u001b[39mdeltaE \u001b[38;5;241m*\u001b[39m E\n\u001b[1;32m    204\u001b[0m )\n\u001b[0;32m--> 205\u001b[0m \u001b[38;5;28;01mreturn\u001b[39;00m np\u001b[38;5;241m.\u001b[39marray([T1dot, T1stardot, T2dot, T2stardot, Vdot, Edot])\n",
            "\u001b[0;31mKeyboardInterrupt\u001b[0m: "
          ]
        }
      ],
      "source": [
        "i = 1\n",
        "support_size = 20\n",
        "embedding_size = 10\n",
        "full_support_size = int(support_size * 2 + 1)\n",
        "num_actions = 4\n",
        "\n",
        "repr_fn = init_representation_func(Representation, embedding_size)\n",
        "pred_fn = init_prediction_func(Prediction, num_actions, full_support_size)\n",
        "dy_fn = init_dynamic_func(Dynamic, embedding_size, num_actions, full_support_size)\n",
        "discount = 0.99\n",
        "tracer = muax.PNStep(50, discount ,0.5)\n",
        "buffer = muax.TrajectoryReplayBuffer(500)\n",
        "\n",
        "\n",
        "\n",
        "gradient_transform = muax.model.optimizer(init_value=0.002, peak_value=0.002, end_value=0.0005, warmup_steps=20000, transition_steps=20000)\n",
        "\n",
        "model = muax.MuZero(repr_fn, pred_fn, dy_fn, policy='muzero', discount=discount,\n",
        "                    optimizer=gradient_transform, support_size=support_size)\n",
        "from env_hiv import * \n",
        "model_path = muax.fit(model, None, \n",
        "                env = env,\n",
        "                test_env = env,\n",
        "                max_episodes=200,\n",
        "                max_training_steps=60000,\n",
        "                tracer=tracer,\n",
        "                buffer=buffer,\n",
        "                k_steps=10,\n",
        "                sample_per_trajectory=1,\n",
        "                buffer_warm_up=32,\n",
        "                num_trajectory=32,\n",
        "                tensorboard_dir='content/data/tensorboard/',\n",
        "                save_name='model_params',\n",
        "                random_seed=i,\n",
        "                log_all_metrics=True)"
      ]
    },
    {
      "cell_type": "code",
      "execution_count": null,
      "metadata": {
        "id": "2Gc-jMf_jw4B"
      },
      "outputs": [
        {
          "data": {
            "text/plain": [
              "'models/2024-02-29_14-26-35/epoch_0190_test_G_-98.04974613/model_params'"
            ]
          },
          "execution_count": 7,
          "metadata": {},
          "output_type": "execute_result"
        }
      ],
      "source": [
        "model_path"
      ]
    },
    {
      "cell_type": "code",
      "execution_count": null,
      "metadata": {
        "id": "nCU4S9DKjw4B"
      },
      "outputs": [],
      "source": [
        "\n",
        "model = muax.MuZero(repr_fn, pred_fn, dy_fn, policy='muzero', discount=discount,\n",
        "                    optimizer=gradient_transform, support_size=support_size)\n",
        "\n",
        "model.load(model_path)"
      ]
    },
    {
      "cell_type": "code",
      "execution_count": null,
      "metadata": {
        "id": "nFtvAnUhjw4B"
      },
      "outputs": [
        {
          "data": {
            "text/plain": [
              "-101.5249334460554"
            ]
          },
          "execution_count": 10,
          "metadata": {},
          "output_type": "execute_result"
        }
      ],
      "source": [
        "import gymnasium as gym \n",
        "from muax.test import test\n",
        "env_id = 'LunarLander-v2'\n",
        "test_env = gym.make(env_id, render_mode='rgb_array')\n",
        "test_key = jax.random.PRNGKey(0)\n",
        "test(model, test_env, test_key, num_simulations=50, num_test_episodes=100, random_seed=None)"
      ]
    },
    {
      "cell_type": "code",
      "execution_count": null,
      "metadata": {
        "id": "ykuhQL8ojw4B"
      },
      "outputs": [],
      "source": []
    }
  ],
  "metadata": {
    "colab": {
      "machine_shape": "hm",
      "provenance": []
    },
    "gpuClass": "standard",
    "kernelspec": {
      "display_name": "base",
      "language": "python",
      "name": "python3"
    },
    "language_info": {
      "codemirror_mode": {
        "name": "ipython",
        "version": 3
      },
      "file_extension": ".py",
      "mimetype": "text/x-python",
      "name": "python",
      "nbconvert_exporter": "python",
      "pygments_lexer": "ipython3",
      "version": "3.11.5"
    },
    "orig_nbformat": 4
  },
  "nbformat": 4,
  "nbformat_minor": 0
}
