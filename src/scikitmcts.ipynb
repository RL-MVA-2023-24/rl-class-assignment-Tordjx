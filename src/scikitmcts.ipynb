{
 "cells": [
  {
   "cell_type": "code",
   "execution_count": 1,
   "metadata": {},
   "outputs": [],
   "source": [
    "import numpy as np\n",
    "def setstate(env,state):\n",
    "    env.T1 = state[0]\n",
    "    env.T1star = state[1]\n",
    "    env.T2 = state[2]\n",
    "    env.T2star = state[3]\n",
    "    env.V = state[4]\n",
    "    env.E = state[5]\n",
    "    return env\n",
    "from gymnasium.wrappers import TimeLimit\n",
    "from env_hiv import * \n",
    "class MazeState(object):\n",
    "    def __init__(self, pos):\n",
    "        self.pos = np.array(pos)\n",
    "        self.actions = [0,1,2,3]\n",
    "        self.env= setstate(HIVPatient(),pos)\n",
    "    def perform(self, action):\n",
    "        y,r,_,_,_ = self.env.step(action)\n",
    "        self.env = setstate(self.env,self.pos)\n",
    "        return MazeState(y)\n",
    "        \n",
    "    def reward(self, parent, action):\n",
    "        y,r,_,_,_ = self.env.step(action)\n",
    "        self.env = setstate(self.env,self.pos)\n",
    "        return r\n",
    "            \n",
    "    def is_terminal(self):\n",
    "        return False\n",
    "            \n",
    "    def __eq__(self, other):\n",
    "        return all(self.pos == other.pos)\n",
    "        \n",
    "    def __hash__(self):\n",
    "        return int(sum([self.pos[i]*10**i for i in range(len(self.pos))]))"
   ]
  },
  {
   "cell_type": "code",
   "execution_count": 48,
   "metadata": {},
   "outputs": [],
   "source": [
    "from joblib import Parallel, delayed\n",
    "import os\n",
    "from __future__ import print_function\n",
    "from mcts import  tree_policies,default_policies,backups,graph\n",
    "import random\n",
    "from mcts import utils\n",
    "from mcts.mcts import MCTS,_get_next_node\n",
    "class ParallelMCTS(MCTS):\n",
    "    def __init__(self, tree_policy, default_policy, backup, n_jobs = 20):\n",
    "        super().__init__(tree_policy, default_policy, backup)\n",
    "        self.tree_policy = tree_policy\n",
    "        self.default_policy = default_policy\n",
    "        self.backup = backup\n",
    "        self.n_jobs = n_jobs\n",
    "    def iteration(self,root):\n",
    "        node = _get_next_node(root, self.tree_policy)\n",
    "        node.reward = self.default_policy(node)\n",
    "        self.backup(node)\n",
    "    def __call__(self, root, n=18*2):\n",
    "        if root.parent is not None:\n",
    "            raise ValueError(\"Root's parent must be None.\")\n",
    "\n",
    "        Parallel(n_jobs = self.n_jobs,backend = \"threading\")(delayed(self.iteration)(root) for _ in range(n))\n",
    "        return utils.rand_max(root.children.values(), key=lambda x: x.q).action\n",
    "    \n",
    "    \n",
    "mcts = ParallelMCTS(tree_policy=tree_policies.UCB1(c=1.41), \n",
    "            default_policy=default_policies.immediate_reward,\n",
    "            backup=backups.monte_carlo)\n",
    "start,_ = HIVPatient().reset()\n",
    "start = MazeState(start)\n",
    "root = graph.StateNode(parent=None, state=start)\n",
    "best_action = mcts(root,n=20)"
   ]
  },
  {
   "cell_type": "code",
   "execution_count": 54,
   "metadata": {},
   "outputs": [
    {
     "name": "stderr",
     "output_type": "stream",
     "text": [
      " 48%|████▊     | 96/200 [33:40<36:29, 21.05s/it, immediate_reward=2.1e+8, max_possible=4.05e+10, total_reward=3.91e+9]   \n"
     ]
    },
    {
     "ename": "KeyboardInterrupt",
     "evalue": "",
     "output_type": "error",
     "traceback": [
      "\u001b[0;31m---------------------------------------------------------------------------\u001b[0m",
      "\u001b[0;31mKeyboardInterrupt\u001b[0m                         Traceback (most recent call last)",
      "Cell \u001b[0;32mIn[54], line 12\u001b[0m\n\u001b[1;32m     10\u001b[0m start \u001b[38;5;241m=\u001b[39m MazeState(x)\n\u001b[1;32m     11\u001b[0m root \u001b[38;5;241m=\u001b[39m graph\u001b[38;5;241m.\u001b[39mStateNode(parent\u001b[38;5;241m=\u001b[39mparent, state\u001b[38;5;241m=\u001b[39mstart)\n\u001b[0;32m---> 12\u001b[0m best_action \u001b[38;5;241m=\u001b[39m \u001b[43mmcts\u001b[49m\u001b[43m(\u001b[49m\u001b[43mroot\u001b[49m\u001b[43m,\u001b[49m\u001b[43mn\u001b[49m\u001b[38;5;241;43m=\u001b[39;49m\u001b[38;5;241;43m200\u001b[39;49m\u001b[43m)\u001b[49m\n\u001b[1;32m     13\u001b[0m pi\u001b[38;5;241m.\u001b[39mappend(best_action)\n\u001b[1;32m     14\u001b[0m x,r,_,_,_ \u001b[38;5;241m=\u001b[39m env\u001b[38;5;241m.\u001b[39mstep(best_action)\n",
      "Cell \u001b[0;32mIn[48], line 23\u001b[0m, in \u001b[0;36mParallelMCTS.__call__\u001b[0;34m(self, root, n)\u001b[0m\n\u001b[1;32m     20\u001b[0m \u001b[38;5;28;01mif\u001b[39;00m root\u001b[38;5;241m.\u001b[39mparent \u001b[38;5;129;01mis\u001b[39;00m \u001b[38;5;129;01mnot\u001b[39;00m \u001b[38;5;28;01mNone\u001b[39;00m:\n\u001b[1;32m     21\u001b[0m     \u001b[38;5;28;01mraise\u001b[39;00m \u001b[38;5;167;01mValueError\u001b[39;00m(\u001b[38;5;124m\"\u001b[39m\u001b[38;5;124mRoot\u001b[39m\u001b[38;5;124m'\u001b[39m\u001b[38;5;124ms parent must be None.\u001b[39m\u001b[38;5;124m\"\u001b[39m)\n\u001b[0;32m---> 23\u001b[0m \u001b[43mParallel\u001b[49m\u001b[43m(\u001b[49m\u001b[43mn_jobs\u001b[49m\u001b[43m \u001b[49m\u001b[38;5;241;43m=\u001b[39;49m\u001b[43m \u001b[49m\u001b[38;5;28;43mself\u001b[39;49m\u001b[38;5;241;43m.\u001b[39;49m\u001b[43mn_jobs\u001b[49m\u001b[43m,\u001b[49m\u001b[43mbackend\u001b[49m\u001b[43m \u001b[49m\u001b[38;5;241;43m=\u001b[39;49m\u001b[43m \u001b[49m\u001b[38;5;124;43m\"\u001b[39;49m\u001b[38;5;124;43mthreading\u001b[39;49m\u001b[38;5;124;43m\"\u001b[39;49m\u001b[43m)\u001b[49m\u001b[43m(\u001b[49m\u001b[43mdelayed\u001b[49m\u001b[43m(\u001b[49m\u001b[38;5;28;43mself\u001b[39;49m\u001b[38;5;241;43m.\u001b[39;49m\u001b[43miteration\u001b[49m\u001b[43m)\u001b[49m\u001b[43m(\u001b[49m\u001b[43mroot\u001b[49m\u001b[43m)\u001b[49m\u001b[43m \u001b[49m\u001b[38;5;28;43;01mfor\u001b[39;49;00m\u001b[43m \u001b[49m\u001b[43m_\u001b[49m\u001b[43m \u001b[49m\u001b[38;5;129;43;01min\u001b[39;49;00m\u001b[43m \u001b[49m\u001b[38;5;28;43mrange\u001b[39;49m\u001b[43m(\u001b[49m\u001b[43mn\u001b[49m\u001b[43m)\u001b[49m\u001b[43m)\u001b[49m\n\u001b[1;32m     24\u001b[0m \u001b[38;5;28;01mreturn\u001b[39;00m utils\u001b[38;5;241m.\u001b[39mrand_max(root\u001b[38;5;241m.\u001b[39mchildren\u001b[38;5;241m.\u001b[39mvalues(), key\u001b[38;5;241m=\u001b[39m\u001b[38;5;28;01mlambda\u001b[39;00m x: x\u001b[38;5;241m.\u001b[39mq)\u001b[38;5;241m.\u001b[39maction\n",
      "File \u001b[0;32m~/miniconda3/lib/python3.11/site-packages/joblib/parallel.py:1952\u001b[0m, in \u001b[0;36mParallel.__call__\u001b[0;34m(self, iterable)\u001b[0m\n\u001b[1;32m   1946\u001b[0m \u001b[38;5;66;03m# The first item from the output is blank, but it makes the interpreter\u001b[39;00m\n\u001b[1;32m   1947\u001b[0m \u001b[38;5;66;03m# progress until it enters the Try/Except block of the generator and\u001b[39;00m\n\u001b[1;32m   1948\u001b[0m \u001b[38;5;66;03m# reach the first `yield` statement. This starts the aynchronous\u001b[39;00m\n\u001b[1;32m   1949\u001b[0m \u001b[38;5;66;03m# dispatch of the tasks to the workers.\u001b[39;00m\n\u001b[1;32m   1950\u001b[0m \u001b[38;5;28mnext\u001b[39m(output)\n\u001b[0;32m-> 1952\u001b[0m \u001b[38;5;28;01mreturn\u001b[39;00m output \u001b[38;5;28;01mif\u001b[39;00m \u001b[38;5;28mself\u001b[39m\u001b[38;5;241m.\u001b[39mreturn_generator \u001b[38;5;28;01melse\u001b[39;00m \u001b[38;5;28mlist\u001b[39m(output)\n",
      "File \u001b[0;32m~/miniconda3/lib/python3.11/site-packages/joblib/parallel.py:1595\u001b[0m, in \u001b[0;36mParallel._get_outputs\u001b[0;34m(self, iterator, pre_dispatch)\u001b[0m\n\u001b[1;32m   1592\u001b[0m     \u001b[38;5;28;01myield\u001b[39;00m\n\u001b[1;32m   1594\u001b[0m     \u001b[38;5;28;01mwith\u001b[39;00m \u001b[38;5;28mself\u001b[39m\u001b[38;5;241m.\u001b[39m_backend\u001b[38;5;241m.\u001b[39mretrieval_context():\n\u001b[0;32m-> 1595\u001b[0m         \u001b[38;5;28;01myield from\u001b[39;00m \u001b[38;5;28mself\u001b[39m\u001b[38;5;241m.\u001b[39m_retrieve()\n\u001b[1;32m   1597\u001b[0m \u001b[38;5;28;01mexcept\u001b[39;00m \u001b[38;5;167;01mGeneratorExit\u001b[39;00m:\n\u001b[1;32m   1598\u001b[0m     \u001b[38;5;66;03m# The generator has been garbage collected before being fully\u001b[39;00m\n\u001b[1;32m   1599\u001b[0m     \u001b[38;5;66;03m# consumed. This aborts the remaining tasks if possible and warn\u001b[39;00m\n\u001b[1;32m   1600\u001b[0m     \u001b[38;5;66;03m# the user if necessary.\u001b[39;00m\n\u001b[1;32m   1601\u001b[0m     \u001b[38;5;28mself\u001b[39m\u001b[38;5;241m.\u001b[39m_exception \u001b[38;5;241m=\u001b[39m \u001b[38;5;28;01mTrue\u001b[39;00m\n",
      "File \u001b[0;32m~/miniconda3/lib/python3.11/site-packages/joblib/parallel.py:1707\u001b[0m, in \u001b[0;36mParallel._retrieve\u001b[0;34m(self)\u001b[0m\n\u001b[1;32m   1702\u001b[0m \u001b[38;5;66;03m# If the next job is not ready for retrieval yet, we just wait for\u001b[39;00m\n\u001b[1;32m   1703\u001b[0m \u001b[38;5;66;03m# async callbacks to progress.\u001b[39;00m\n\u001b[1;32m   1704\u001b[0m \u001b[38;5;28;01mif\u001b[39;00m ((\u001b[38;5;28mlen\u001b[39m(\u001b[38;5;28mself\u001b[39m\u001b[38;5;241m.\u001b[39m_jobs) \u001b[38;5;241m==\u001b[39m \u001b[38;5;241m0\u001b[39m) \u001b[38;5;129;01mor\u001b[39;00m\n\u001b[1;32m   1705\u001b[0m     (\u001b[38;5;28mself\u001b[39m\u001b[38;5;241m.\u001b[39m_jobs[\u001b[38;5;241m0\u001b[39m]\u001b[38;5;241m.\u001b[39mget_status(\n\u001b[1;32m   1706\u001b[0m         timeout\u001b[38;5;241m=\u001b[39m\u001b[38;5;28mself\u001b[39m\u001b[38;5;241m.\u001b[39mtimeout) \u001b[38;5;241m==\u001b[39m TASK_PENDING)):\n\u001b[0;32m-> 1707\u001b[0m     time\u001b[38;5;241m.\u001b[39msleep(\u001b[38;5;241m0.01\u001b[39m)\n\u001b[1;32m   1708\u001b[0m     \u001b[38;5;28;01mcontinue\u001b[39;00m\n\u001b[1;32m   1710\u001b[0m \u001b[38;5;66;03m# We need to be careful: the job list can be filling up as\u001b[39;00m\n\u001b[1;32m   1711\u001b[0m \u001b[38;5;66;03m# we empty it and Python list are not thread-safe by\u001b[39;00m\n\u001b[1;32m   1712\u001b[0m \u001b[38;5;66;03m# default hence the use of the lock\u001b[39;00m\n",
      "\u001b[0;31mKeyboardInterrupt\u001b[0m: "
     ]
    }
   ],
   "source": [
    "env = HIVPatient()\n",
    "total_reward= 0\n",
    "x,_ = env.reset()\n",
    "from tqdm import tqdm\n",
    "pbar = tqdm(range(200))\n",
    "pi = []\n",
    "parent = None\n",
    "for t in pbar :\n",
    "    max_possible = (200-t)*7e10/200+total_reward\n",
    "    start = MazeState(x)\n",
    "    root = graph.StateNode(parent=parent, state=start)\n",
    "    best_action = mcts(root,n=200)\n",
    "    pi.append(best_action)\n",
    "    x,r,_,_,_ = env.step(best_action)\n",
    "    total_reward+=r\n",
    "    pbar.set_postfix(total_reward = total_reward, immediate_reward = r,max_possible = max_possible)\n",
    "total_reward"
   ]
  },
  {
   "cell_type": "code",
   "execution_count": null,
   "metadata": {},
   "outputs": [],
   "source": []
  }
 ],
 "metadata": {
  "kernelspec": {
   "display_name": "base",
   "language": "python",
   "name": "python3"
  },
  "language_info": {
   "codemirror_mode": {
    "name": "ipython",
    "version": 3
   },
   "file_extension": ".py",
   "mimetype": "text/x-python",
   "name": "python",
   "nbconvert_exporter": "python",
   "pygments_lexer": "ipython3",
   "version": "3.11.5"
  }
 },
 "nbformat": 4,
 "nbformat_minor": 2
}
