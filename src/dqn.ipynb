{
 "cells": [
  {
   "cell_type": "code",
   "execution_count": 3,
   "metadata": {},
   "outputs": [
    {
     "data": {
      "text/plain": [
       "\"plt.plot(res[0])\\npagent.save('')\""
      ]
     },
     "execution_count": 3,
     "metadata": {},
     "output_type": "execute_result"
    }
   ],
   "source": [
    "import train_dqn,train\n",
    "import env_hiv \n",
    "import torch\n",
    "# DQN config\n",
    "\n",
    "pagent = train.ProjectAgent()\n",
    "res = pagent.train()\n",
    "import matplotlib.pyplot as plt\n",
    "\"\"\"plt.plot(res[0])\n",
    "pagent.save('')\"\"\""
   ]
  },
  {
   "cell_type": "code",
   "execution_count": 9,
   "metadata": {},
   "outputs": [],
   "source": [
    "import pickle\n",
    "import numpy as np\n",
    "import torch\n",
    "import torch.nn as nn\n",
    "def layer_init(layer, std=np.sqrt(2), bias_const=0.0):\n",
    "    torch.nn.init.orthogonal_(layer.weight, std)\n",
    "    torch.nn.init.constant_(layer.bias, bias_const)\n",
    "    return layer\n",
    "\n",
    "hsize = 256\n",
    "class Agent(nn.Module):\n",
    "    def __init__(self, envs):\n",
    "        super().__init__()\n",
    "        self.critic = nn.Sequential(\n",
    "            layer_init(nn.Linear(np.array(envs.single_observation_space.shape).prod(), hsize)),\n",
    "            nn.Tanh(),\n",
    "            layer_init(nn.Linear(hsize, hsize)),\n",
    "            nn.Tanh(),\n",
    "            layer_init(nn.Linear(hsize, 1), std=1.0),\n",
    "        )\n",
    "        self.actor = nn.Sequential(\n",
    "            layer_init(nn.Linear(np.array(envs.single_observation_space.shape).prod(), hsize)),\n",
    "            nn.Tanh(),\n",
    "            layer_init(nn.Linear(hsize, hsize)),\n",
    "            nn.Tanh(),\n",
    "            layer_init(nn.Linear(hsize, envs.single_action_space.n), std=0.01),\n",
    "        )\n",
    "\n",
    "    def get_value(self, x):\n",
    "        return self.critic(x)\n",
    "\n",
    "    def get_action_and_value(self, x, action=None):\n",
    "        logits = self.actor(x)\n",
    "        probs = Categorical(logits=logits)\n",
    "        if action is None:\n",
    "            action = probs.sample()\n",
    "        return action, probs.log_prob(action), probs.entropy(), self.critic(x)\n",
    "with open('saved.pkl', 'rb') as f:  # open a text file\n",
    "            saved = pickle.load( f)"
   ]
  },
  {
   "cell_type": "code",
   "execution_count": 21,
   "metadata": {},
   "outputs": [],
   "source": [
    "serialized ={\"dqn\" : saved['dqn'].actor}\n",
    "with open('saved.pkl', 'wb') as f:  # open a text file\n",
    "    pickle.dump(serialized, f) # serialize the list"
   ]
  }
 ],
 "metadata": {
  "kernelspec": {
   "display_name": "mujoco_py",
   "language": "python",
   "name": "python3"
  },
  "language_info": {
   "codemirror_mode": {
    "name": "ipython",
    "version": 3
   },
   "file_extension": ".py",
   "mimetype": "text/x-python",
   "name": "python",
   "nbconvert_exporter": "python",
   "pygments_lexer": "ipython3",
   "version": "3.8.18"
  }
 },
 "nbformat": 4,
 "nbformat_minor": 2
}
