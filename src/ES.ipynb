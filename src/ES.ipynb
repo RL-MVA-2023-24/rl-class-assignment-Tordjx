{
 "cells": [
  {
   "cell_type": "code",
   "execution_count": 1,
   "metadata": {},
   "outputs": [],
   "source": [
    "import env_hiv\n",
    "from pyvirtualdisplay import Display\n",
    "from IPython import display\n",
    "import torch\n",
    "torch.multiprocessing.set_start_method(\"spawn\")\n",
    "import torch.nn.functional as F\n",
    "import torch.multiprocessing as mp\n",
    "import torch.nn as nn\n",
    "import cma\n",
    "import numpy as np\n",
    "import gymnasium as gym\n",
    "import matplotlib.pyplot as plt\n",
    "def fitness(x, ann, env, visul=False):\n",
    "    ann.set_params(torch.Tensor(x))\n",
    "    return -evaluate(ann, env, visul=visul)\n",
    "def evaluate(ann, env, visul=True, maxiter = 200):\n",
    "    #env.seed(0) # deterministic for demonstration\n",
    "    obs,_ = env.reset()\n",
    "    if visul:\n",
    "        img = plt.imshow(env.render())\n",
    "    total_reward = 0\n",
    "    niter = 0\n",
    "    while True:\n",
    "        niter+=1\n",
    "        # Output of the neural net\n",
    "        net_output = ann(torch.from_numpy(obs).cuda())\n",
    "        # the action is the value clipped returned by the nn\n",
    "        action = net_output.data.cpu().numpy().argmax()\n",
    "        obs, reward, done, trunc,infos = env.step(action)\n",
    "        total_reward += reward\n",
    "        if visul:\n",
    "            img.set_data(env.render())\n",
    "            plt.axis('off')\n",
    "            display.display(plt.gcf())\n",
    "            display.clear_output(wait=True)\n",
    "        if done or niter>maxiter:\n",
    "            break\n",
    "    return total_reward"
   ]
  },
  {
   "cell_type": "code",
   "execution_count": 2,
   "metadata": {},
   "outputs": [],
   "source": [
    "hidden_dim = 128\n",
    "class NeuralNetwork(nn.Module):\n",
    "\n",
    "    def __init__(self, input_shape, n_actions):\n",
    "        super(NeuralNetwork, self).__init__()\n",
    "        self.l1 = nn.Linear(input_shape, hidden_dim).cuda()\n",
    "        self.l2 = nn.Linear(hidden_dim, hidden_dim).cuda()\n",
    "        self.lout = nn.Linear(hidden_dim, n_actions).cuda()\n",
    "\n",
    "    def forward(self, x):\n",
    "        x = F.relu(self.l1(x.float()))\n",
    "        x = F.relu(self.l2(x))\n",
    "        return self.lout(x)\n",
    "\n",
    "    def get_params(self):\n",
    "        p = np.empty((0,))\n",
    "        for n in self.parameters():\n",
    "            p = np.append(p, n.flatten().cpu().detach().numpy())\n",
    "        return p\n",
    "\n",
    "    def set_params(self, x):\n",
    "        start = 0\n",
    "        for p in self.parameters():\n",
    "            e = start + np.prod(p.shape)\n",
    "            #p.data = torch.FloatTensor(x[start:e]).reshape(p.shape).cuda()\n",
    "            p.data = (x[start:e]).to(torch.float32).reshape(p.shape).cuda()\n",
    "            start = e"
   ]
  },
  {
   "cell_type": "code",
   "execution_count": 3,
   "metadata": {},
   "outputs": [
    {
     "name": "stdout",
     "output_type": "stream",
     "text": [
      "(16_w,33)-aCMA-ES (mu_w=9.4,w_1=19%) in dimension 17924 (seed=123, Wed Feb 21 21:46:29 2024)\n",
      "Iterat #Fevals   function value  axis ratio  sigma  min&max std  t[m:s]\n",
      "    1     25 -6.814066737911182e+06 1.0e+00 9.99e-02  1e-01  1e-01 0:15.4\n",
      "    2     50 -6.814066737911182e+06 1.0e+00 9.99e-02  1e-01  1e-01 0:27.6\n",
      "    3     75 -6.814066737911182e+06 1.0e+00 9.98e-02  1e-01  1e-01 0:39.3\n",
      "    4    100 -6.980018828434741e+06 1.0e+00 9.98e-02  1e-01  1e-01 0:50.7\n",
      "    5    125 -6.814066737911182e+06 1.0e+00 9.97e-02  1e-01  1e-01 1:02.4\n",
      "    6    150 -6.814066737911182e+06 1.0e+00 9.96e-02  1e-01  1e-01 1:14.1\n",
      "    7    175 -6.814066737911182e+06 1.0e+00 9.96e-02  1e-01  1e-01 1:25.6\n",
      "    8    200 -7.103384947284224e+06 1.0e+00 9.95e-02  1e-01  1e-01 1:37.4\n",
      "    9    225 -6.814066737911182e+06 1.0e+00 9.95e-02  1e-01  1e-01 1:49.1\n",
      "   10    250 -6.814066737911182e+06 1.0e+00 9.94e-02  1e-01  1e-01 2:00.8\n",
      "   11    275 -6.814066737911182e+06 1.0e+00 9.94e-02  1e-01  1e-01 2:12.5\n",
      "   12    300 -6.814066737911182e+06 1.0e+00 9.93e-02  1e-01  1e-01 2:24.0\n",
      "   14    350 -6.814066737911182e+06 1.0e+00 9.92e-02  1e-01  1e-01 2:47.2\n",
      "   15    375 -6.814066737911182e+06 1.0e+00 9.91e-02  1e-01  1e-01 2:58.7\n",
      "   17    425 -6.814066737911182e+06 1.0e+00 9.90e-02  1e-01  1e-01 3:22.0\n",
      "   19    475 -6.814066737911182e+06 1.0e+00 9.89e-02  1e-01  1e-01 3:45.3\n",
      "   21    525 -6.814066737911182e+06 1.0e+00 9.88e-02  1e-01  1e-01 4:08.5\n",
      "   23    575 -6.814066737911182e+06 1.0e+00 9.87e-02  1e-01  1e-01 4:31.9\n",
      "   25    625 -6.814066737911182e+06 1.0e+00 9.86e-02  1e-01  1e-01 4:55.2\n"
     ]
    }
   ],
   "source": [
    "\n",
    "from joblib import delayed, Parallel\n",
    "np.random.seed(123)\n",
    "#env = gym.make(\"MountainCar-v0\", render_mode = \"rgb_array\")\n",
    "env = env_hiv.HIVPatient()\n",
    "ann = NeuralNetwork(env.observation_space.shape[0], env.action_space.n).cuda()\n",
    "es = cma.CMAEvolutionStrategy(len(ann.get_params()) * [0], 0.1, {'seed': 123})\n",
    "from tqdm import tqdm\n",
    "niter = 25\n",
    "noffsprings = 25\n",
    "\n",
    "for i in range(niter):\n",
    "    solutions = torch.from_numpy(np.array(es.ask(noffsprings))).cuda()\n",
    "    #fits = [fitness(x, ann, env) for x in solutions]\n",
    "    fits=Parallel(n_jobs=17, backend = \"loky\")(delayed(fitness)(x, ann, env) for i, x in enumerate(solutions))    \n",
    "    es.tell(solutions.cpu(), fits)\n",
    "    es.disp()\n"
   ]
  },
  {
   "cell_type": "code",
   "execution_count": 5,
   "metadata": {},
   "outputs": [
    {
     "data": {
      "text/plain": [
       "7103384.9472842235"
      ]
     },
     "execution_count": 5,
     "metadata": {},
     "output_type": "execute_result"
    }
   ],
   "source": [
    "x = es.result[0]\n",
    "-fitness(x, ann, env, visul=False)"
   ]
  }
 ],
 "metadata": {
  "kernelspec": {
   "display_name": "mujoco_py",
   "language": "python",
   "name": "python3"
  },
  "language_info": {
   "codemirror_mode": {
    "name": "ipython",
    "version": 3
   },
   "file_extension": ".py",
   "mimetype": "text/x-python",
   "name": "python",
   "nbconvert_exporter": "python",
   "pygments_lexer": "ipython3",
   "version": "3.8.18"
  }
 },
 "nbformat": 4,
 "nbformat_minor": 2
}
